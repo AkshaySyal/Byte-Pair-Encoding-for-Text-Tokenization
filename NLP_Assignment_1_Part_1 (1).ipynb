{
  "nbformat": 4,
  "nbformat_minor": 0,
  "metadata": {
    "colab": {
      "provenance": []
    },
    "kernelspec": {
      "name": "python3",
      "display_name": "Python 3"
    },
    "language_info": {
      "name": "python"
    }
  },
  "cells": [
    {
      "cell_type": "code",
      "source": [
        "import nltk\n",
        "from nltk.corpus import gutenberg\n",
        "nltk.download('gutenberg')\n",
        "nltk.download('punkt')\n",
        "import pickle\n",
        "from nltk.tokenize import sent_tokenize, word_tokenize\n",
        "import matplotlib.pyplot as plt"
      ],
      "metadata": {
        "id": "5K70XVzcGBQd"
      },
      "execution_count": null,
      "outputs": []
    },
    {
      "cell_type": "markdown",
      "source": [
        "##1. Implement BPE Algorithm\n",
        "Develop a Python implementation of the Byte Pair Encoding (BPE) algorithm, covering key\n",
        "steps such as learning byte pair merges and encoding/decoding using the learned merge\n",
        "operations"
      ],
      "metadata": {
        "id": "e6MztkDUbDya"
      }
    },
    {
      "cell_type": "code",
      "source": [
        "class BPE:\n",
        "  def __init__(self,corpus,num_merges):\n",
        "    self.corpus = corpus\n",
        "    self.num_merges = num_merges\n",
        "    self.vocab = []\n",
        "    self.pair_strt_idx = 0\n",
        "    self.vocab_len_history = []\n",
        "    self.freq_of_pair_merges = []\n",
        "\n",
        "  def findMostFrequentPair(self, training_corpus):\n",
        "    pair_freq = dict()\n",
        "    for i in range(len(training_corpus)-1):\n",
        "      pair = training_corpus[i] + training_corpus[i+1]\n",
        "      if pair in pair_freq:\n",
        "        pair_freq[pair] += 1\n",
        "      else:\n",
        "        pair_freq[pair] = 1\n",
        "\n",
        "    chosen_pair = max(pair_freq, key=pair_freq.get)\n",
        "    chosen_pair_freq = pair_freq[chosen_pair]\n",
        "    #print(f'Pair Freqs: {pair_freq} & Pair Chosen: {chosen_pair}, Its Freq: {chosen_pair_freq}')\n",
        "    self.freq_of_pair_merges.append(chosen_pair_freq)\n",
        "    return chosen_pair\n",
        "\n",
        "  def learner(self):\n",
        "    training_corpus = list(self.corpus)\n",
        "    self.vocab.extend(set(training_corpus))\n",
        "    self.pair_strt_idx = len(self.vocab)\n",
        "    self.vocab_len_history.append(len(self.vocab))\n",
        "\n",
        "    for i in range(self.num_merges):\n",
        "      most_freq_pair = self.findMostFrequentPair(training_corpus)\n",
        "      self.vocab.append(most_freq_pair)\n",
        "      self.vocab_len_history.append(len(self.vocab))\n",
        "\n",
        "      new_training_corpus = []\n",
        "      j = 0\n",
        "      while(j <= len(training_corpus)-1):\n",
        "        if j == len(training_corpus)-1:\n",
        "          new_training_corpus.append(training_corpus[j])\n",
        "          break\n",
        "        elif training_corpus[j] + training_corpus[j+1] == most_freq_pair:\n",
        "          new_training_corpus.append(most_freq_pair)\n",
        "          j += 2\n",
        "        else:\n",
        "          new_training_corpus.append(training_corpus[j])\n",
        "          j += 1\n",
        "\n",
        "      training_corpus = new_training_corpus\n",
        "\n",
        "  def segmenter(self,txt):\n",
        "    test_corpus = list(txt)\n",
        "    for pair in self.vocab[self.pair_strt_idx:]:\n",
        "      j = 0\n",
        "      new_test_corpus = []\n",
        "\n",
        "      while(j <= len(test_corpus)-1):\n",
        "        if j == len(test_corpus)-1:\n",
        "          new_test_corpus.append(test_corpus[j])\n",
        "          break\n",
        "        elif test_corpus[j] + test_corpus[j+1] == pair:\n",
        "          new_test_corpus.append(pair)\n",
        "          j += 2\n",
        "        else:\n",
        "          new_test_corpus.append(test_corpus[j])\n",
        "          j += 1\n",
        "\n",
        "      test_corpus = new_test_corpus\n",
        "\n",
        "    return test_corpus"
      ],
      "metadata": {
        "id": "vmDm917QbFTU"
      },
      "execution_count": null,
      "outputs": []
    },
    {
      "cell_type": "code",
      "source": [
        "text = \"thecatatethemate\" #the cat ate the mate\n",
        "\n",
        "bpe = BPE(text, 4)\n",
        "bpe.learner()\n",
        "print('Vocab: ',bpe.vocab)\n",
        "\n",
        "bpe.segmenter('themated') # Ans shud be: the m ate d"
      ],
      "metadata": {
        "colab": {
          "base_uri": "https://localhost:8080/"
        },
        "collapsed": true,
        "id": "rWUkYLoLGSgk",
        "outputId": "dc73bd49-ad3c-4332-ca0c-773afb8e6481"
      },
      "execution_count": null,
      "outputs": [
        {
          "output_type": "stream",
          "name": "stdout",
          "text": [
            "Vocab:  ['h', 't', 'c', 'a', 'm', 'e', 'at', 'th', 'the', 'ate']\n"
          ]
        },
        {
          "output_type": "execute_result",
          "data": {
            "text/plain": [
              "['the', 'm', 'ate', 'd']"
            ]
          },
          "metadata": {},
          "execution_count": 150
        }
      ]
    },
    {
      "cell_type": "code",
      "source": [
        "text = \"low low low low low lowest lowest newer newer newer newer newer newer wider wider wider new new\"\n",
        "bpe = BPE(text, 8)\n",
        "bpe.learner()\n",
        "bpe.vocab # Freq of both <spc>low and newer<spc> is 6"
      ],
      "metadata": {
        "colab": {
          "base_uri": "https://localhost:8080/"
        },
        "collapsed": true,
        "id": "oOvMymypzXE-",
        "outputId": "fcfcfd43-fe8b-486f-eccd-ad74f947b4cc"
      },
      "execution_count": null,
      "outputs": [
        {
          "output_type": "stream",
          "name": "stdout",
          "text": [
            "Pair Freqs: {'lo': 7, 'ow': 7, 'w ': 6, ' l': 6, 'we': 8, 'es': 2, 'st': 2, 't ': 2, ' n': 8, 'ne': 8, 'ew': 8, 'er': 9, 'r ': 9, ' w': 3, 'wi': 3, 'id': 3, 'de': 3} & Pair Chosen: er, Its Freq: 9\n",
            "Pair Freqs: {'lo': 7, 'ow': 7, 'w ': 6, ' l': 6, 'we': 2, 'es': 2, 'st': 2, 't ': 2, ' n': 8, 'ne': 8, 'ew': 8, 'wer': 6, 'er ': 9, ' w': 3, 'wi': 3, 'id': 3, 'der': 3} & Pair Chosen: er , Its Freq: 9\n",
            "Pair Freqs: {'lo': 7, 'ow': 7, 'w ': 6, ' l': 6, 'we': 2, 'es': 2, 'st': 2, 't ': 2, ' n': 2, 'ne': 8, 'ew': 8, 'wer ': 6, 'er n': 6, 'er w': 3, 'wi': 3, 'id': 3, 'der ': 3} & Pair Chosen: ne, Its Freq: 8\n",
            "Pair Freqs: {'lo': 7, 'ow': 7, 'w ': 6, ' l': 6, 'we': 2, 'es': 2, 'st': 2, 't ': 2, ' ne': 2, 'new': 8, 'wer ': 6, 'er ne': 6, 'er w': 3, 'wi': 3, 'id': 3, 'der ': 3} & Pair Chosen: new, Its Freq: 8\n",
            "Pair Freqs: {'lo': 7, 'ow': 7, 'w ': 5, ' l': 6, 'we': 2, 'es': 2, 'st': 2, 't ': 2, ' new': 2, 'newer ': 6, 'er new': 6, 'er w': 3, 'wi': 3, 'id': 3, 'der ': 3, 'new ': 1} & Pair Chosen: lo, Its Freq: 7\n",
            "Pair Freqs: {'low': 7, 'w ': 5, ' lo': 6, 'we': 2, 'es': 2, 'st': 2, 't ': 2, ' new': 2, 'newer ': 6, 'er new': 6, 'er w': 3, 'wi': 3, 'id': 3, 'der ': 3, 'new ': 1} & Pair Chosen: low, Its Freq: 7\n",
            "Pair Freqs: {'low ': 5, ' low': 6, 'lowe': 2, 'es': 2, 'st': 2, 't ': 2, ' new': 2, 'newer ': 6, 'er new': 6, 'er w': 3, 'wi': 3, 'id': 3, 'der ': 3, 'new ': 1} & Pair Chosen:  low, Its Freq: 6\n",
            "Pair Freqs: {'low low': 1, ' low low': 4, ' lowe': 2, 'es': 2, 'st': 2, 't low': 1, 't ': 1, ' new': 2, 'newer ': 6, 'er new': 6, 'er w': 3, 'wi': 3, 'id': 3, 'der ': 3, 'new ': 1} & Pair Chosen: newer , Its Freq: 6\n"
          ]
        },
        {
          "output_type": "execute_result",
          "data": {
            "text/plain": [
              "['w',\n",
              " 'n',\n",
              " 't',\n",
              " 'l',\n",
              " 'i',\n",
              " 's',\n",
              " ' ',\n",
              " 'o',\n",
              " 'd',\n",
              " 'r',\n",
              " 'e',\n",
              " 'er',\n",
              " 'er ',\n",
              " 'ne',\n",
              " 'new',\n",
              " 'lo',\n",
              " 'low',\n",
              " ' low',\n",
              " 'newer ']"
            ]
          },
          "metadata": {},
          "execution_count": 148
        }
      ]
    },
    {
      "cell_type": "markdown",
      "source": [
        "##2. Train on NLTK Dataset (3 marks):\n",
        "Utilize NLTK's Gutenberg Corpus, selecting books like \"austen-emma.txt,\" \"blake-poems.txt\"\n",
        "and \"shakespeare-hamlet.txt\" for training the BPE algorithm. Create a vocabulary based on\n",
        "the training"
      ],
      "metadata": {
        "id": "JGxaHaaebK82"
      }
    },
    {
      "cell_type": "code",
      "source": [
        "emma_text = gutenberg.raw('austen-emma.txt')\n",
        "poem_text = gutenberg.raw('blake-poems.txt')\n",
        "hamlet_text = gutenberg.raw('shakespeare-hamlet.txt')\n",
        "\n",
        "bpe_austen_emma = BPE(emma_text, 1000)\n",
        "bpe_blake_poem = BPE(poem_text, 1000)\n",
        "bpe_shakespeare_hamlet = BPE(hamlet_text, 1000)\n",
        "\n",
        "bpe_austen_emma.learner()\n",
        "bpe_blake_poem.learner()\n",
        "bpe_shakespeare_hamlet.learner()"
      ],
      "metadata": {
        "id": "z7P-QacJbOto"
      },
      "execution_count": null,
      "outputs": []
    },
    {
      "cell_type": "code",
      "source": [
        "bpe_austen_emma.vocab[bpe_austen_emma.pair_strt_idx:bpe_austen_emma.pair_strt_idx+200]"
      ],
      "metadata": {
        "colab": {
          "base_uri": "https://localhost:8080/"
        },
        "collapsed": true,
        "id": "K4vuF_-GuR9Q",
        "outputId": "22666aed-6a9c-4343-c515-b60145c78a46"
      },
      "execution_count": null,
      "outputs": [
        {
          "output_type": "execute_result",
          "data": {
            "text/plain": [
              "['e ',\n",
              " 't ',\n",
              " 'th',\n",
              " 'd ',\n",
              " 'er',\n",
              " 'in',\n",
              " 's ',\n",
              " 'an',\n",
              " ', ',\n",
              " 'y ',\n",
              " 'ou',\n",
              " 'o ',\n",
              " 'on',\n",
              " 'en',\n",
              " 'ing',\n",
              " 'ha',\n",
              " 'to ',\n",
              " 'or',\n",
              " 'f ',\n",
              " 'ar',\n",
              " '. ',\n",
              " 'the ',\n",
              " 'and ',\n",
              " 'er ',\n",
              " 're',\n",
              " 'll',\n",
              " 'of ',\n",
              " 'he ',\n",
              " 'ing ',\n",
              " 'as ',\n",
              " 'ed ',\n",
              " 'no',\n",
              " 'a ',\n",
              " 'hi',\n",
              " 'es',\n",
              " '--',\n",
              " 'I ',\n",
              " 'ti',\n",
              " '.  ',\n",
              " 'om',\n",
              " 'at ',\n",
              " 'be',\n",
              " 'se',\n",
              " 'it',\n",
              " '\\n\\n',\n",
              " 'gh',\n",
              " 'wi',\n",
              " ',\\n',\n",
              " 'le',\n",
              " 'ch',\n",
              " 'in ',\n",
              " 'you',\n",
              " 'on ',\n",
              " 'for',\n",
              " 'was ',\n",
              " 'll ',\n",
              " 'is',\n",
              " 'ld ',\n",
              " 'ver',\n",
              " 'not ',\n",
              " 'su',\n",
              " 've ',\n",
              " 'her ',\n",
              " 'at',\n",
              " 'en ',\n",
              " 'Mr',\n",
              " 'ri',\n",
              " 'ould ',\n",
              " 'be ',\n",
              " 'al',\n",
              " 'ly ',\n",
              " 'ed',\n",
              " 'it ',\n",
              " '; ',\n",
              " 'that ',\n",
              " 'she ',\n",
              " 'ow',\n",
              " 'de',\n",
              " 'is ',\n",
              " 'sa',\n",
              " 'as',\n",
              " 'ch ',\n",
              " 'very ',\n",
              " 'had ',\n",
              " 'ut ',\n",
              " 'us',\n",
              " 'with',\n",
              " 'ma',\n",
              " 'ir',\n",
              " '\\n\\n\"',\n",
              " 'an ',\n",
              " 'li',\n",
              " ', and ',\n",
              " 'oo',\n",
              " 'the',\n",
              " 'le ',\n",
              " '.\\n',\n",
              " 'you ',\n",
              " 'her',\n",
              " 'for ',\n",
              " 'have ',\n",
              " 'he',\n",
              " 'm ',\n",
              " 'st',\n",
              " '.\"',\n",
              " 'ce',\n",
              " 'Mr. ',\n",
              " 'his ',\n",
              " 'k ',\n",
              " 'with ',\n",
              " 'but ',\n",
              " 'ab',\n",
              " 'ur',\n",
              " 'os',\n",
              " 'me',\n",
              " 'com',\n",
              " 'igh',\n",
              " 'ne',\n",
              " 'ther',\n",
              " 'con',\n",
              " 'fe',\n",
              " 'ent',\n",
              " 'ag',\n",
              " 'ac',\n",
              " 'pp',\n",
              " 'un',\n",
              " 'ro',\n",
              " 'qu',\n",
              " 'all',\n",
              " 'ad',\n",
              " 'Em',\n",
              " 'wh',\n",
              " 'tion',\n",
              " 'ough',\n",
              " 'so ',\n",
              " 'now',\n",
              " 'or ',\n",
              " 'ay',\n",
              " 'id ',\n",
              " 'fa',\n",
              " 'si',\n",
              " \"'s \",\n",
              " '  ',\n",
              " 'sh',\n",
              " 'e of ',\n",
              " 'any ',\n",
              " '.\"\\n\\n\"',\n",
              " 'ther ',\n",
              " 'all ',\n",
              " 'el',\n",
              " 'could ',\n",
              " 'would ',\n",
              " 'our',\n",
              " 'sp',\n",
              " 'est',\n",
              " '.--',\n",
              " 'arri',\n",
              " 'sel',\n",
              " 'ex',\n",
              " 's. ',\n",
              " 'me ',\n",
              " 'whi',\n",
              " 'n ',\n",
              " 'Mrs. ',\n",
              " 'ter',\n",
              " 'ra',\n",
              " 'ust ',\n",
              " 'ev',\n",
              " 'mor',\n",
              " 'we',\n",
              " 'wer',\n",
              " 'been ',\n",
              " 'om ',\n",
              " 'et',\n",
              " 'per',\n",
              " 'to',\n",
              " 'ent ',\n",
              " 'ec',\n",
              " 'so',\n",
              " 'ul',\n",
              " 'ta',\n",
              " '; and ',\n",
              " 'tion ',\n",
              " 'es ',\n",
              " 'Mis',\n",
              " 'my ',\n",
              " 'hat ',\n",
              " 'and',\n",
              " 'out ',\n",
              " 'fi',\n",
              " 'Miss ',\n",
              " 'She ',\n",
              " 'pre',\n",
              " 'thing ',\n",
              " 'fr',\n",
              " ';\\n',\n",
              " 'y\\n',\n",
              " 'were ',\n",
              " 'y, ',\n",
              " 'by ']"
            ]
          },
          "metadata": {},
          "execution_count": 72
        }
      ]
    },
    {
      "cell_type": "code",
      "source": [
        "# with open('bpe_austen_emma.pkl', 'wb') as f:\n",
        "#   pickle.dump(bpe_austen_emma, f)\n",
        "# with open('bpe_blake_poem.pkl', 'wb') as f:\n",
        "#   pickle.dump(bpe_blake_poem, f)\n",
        "# with open('bpe_shakespeare_hamlet.pkl', 'wb') as f:\n",
        "#   pickle.dump(bpe_shakespeare_hamlet, f)"
      ],
      "metadata": {
        "id": "RxwWblepJ4-2"
      },
      "execution_count": null,
      "outputs": []
    },
    {
      "cell_type": "markdown",
      "source": [
        "##3. Test on NLTK Dataset\n",
        "Evaluate the BPE algorithm on a separate set of books from the NLTK Gutenberg Corpus,\n",
        "such as \"Frankenstein,\" \"Dracula,\" and \"The Adventures of Sherlock Holmes.\" Measure\n",
        "tokenization accuracy, coverage, and other relevant metrics"
      ],
      "metadata": {
        "id": "COg5hMgIbPuo"
      }
    },
    {
      "cell_type": "code",
      "source": [
        "book_list = gutenberg.fileids()\n",
        "print(\"Available Books:\")\n",
        "for book in book_list:\n",
        "  print(book)"
      ],
      "metadata": {
        "colab": {
          "base_uri": "https://localhost:8080/"
        },
        "collapsed": true,
        "id": "lWaLvO0oN6ZD",
        "outputId": "fba4f88b-b20c-4aec-b5a7-b6369e4083da"
      },
      "execution_count": null,
      "outputs": [
        {
          "output_type": "stream",
          "name": "stdout",
          "text": [
            "Available Books:\n",
            "austen-emma.txt\n",
            "austen-persuasion.txt\n",
            "austen-sense.txt\n",
            "bible-kjv.txt\n",
            "blake-poems.txt\n",
            "bryant-stories.txt\n",
            "burgess-busterbrown.txt\n",
            "carroll-alice.txt\n",
            "chesterton-ball.txt\n",
            "chesterton-brown.txt\n",
            "chesterton-thursday.txt\n",
            "edgeworth-parents.txt\n",
            "melville-moby_dick.txt\n",
            "milton-paradise.txt\n",
            "shakespeare-caesar.txt\n",
            "shakespeare-hamlet.txt\n",
            "shakespeare-macbeth.txt\n",
            "whitman-leaves.txt\n"
          ]
        }
      ]
    },
    {
      "cell_type": "code",
      "source": [
        "macbeth_text = gutenberg.raw('shakespeare-macbeth.txt') # Shakespeare\n",
        "persuation_text = gutenberg.raw('austen-persuasion.txt') # Jane Austen\n",
        "whitman_text = gutenberg.raw('whitman-leaves.txt') # Poem"
      ],
      "metadata": {
        "id": "cfoESr3xOmq2"
      },
      "execution_count": null,
      "outputs": []
    },
    {
      "cell_type": "markdown",
      "source": [
        "##4. Create Reference Tokenization (2 marks):\n",
        "Use NLTK's punkt tokenizer to create a reference tokenization for the test dataset. Save the\n",
        "tokenized results in a structured format for later comparison."
      ],
      "metadata": {
        "id": "iPO1lrfObUtx"
      }
    },
    {
      "cell_type": "code",
      "source": [
        "def tokenize_text(text):\n",
        "    sentences = sent_tokenize(text)  # Tokenize into sentences\n",
        "    tokens = [word for sent in sentences for word in word_tokenize(sent)]  # Flatten tokenized words into a single list\n",
        "    return tokens\n",
        "\n",
        "# Tokenize the texts\n",
        "macbeth_tokens = tokenize_text(macbeth_text)\n",
        "persuasion_tokens = tokenize_text(persuation_text)\n",
        "whitman_tokens = tokenize_text(whitman_text)"
      ],
      "metadata": {
        "id": "6NkgO_30bYCA"
      },
      "execution_count": null,
      "outputs": []
    },
    {
      "cell_type": "markdown",
      "source": [
        "##5. Compare with Standard Tokenization (2 marks):\n",
        "Implement a baseline tokenization using NLTK's default method (e.g., word_tokenize) on\n",
        "the test dataset. Compare the BPE algorithm's performance with the standard tokenization\n",
        "in terms of accuracy, coverage, and other relevant metrics"
      ],
      "metadata": {
        "id": "OrJOCEtBbZI4"
      }
    },
    {
      "cell_type": "code",
      "source": [
        "def accuracy(learned_tokens,ref_tokens):\n",
        "  learned_tokens_lower = [token.lower() for token in learned_tokens]\n",
        "  ref_tokens_lower = [token.lower() for token in ref_tokens]\n",
        "  learned_tokens_lower_set = set(learned_tokens_lower)\n",
        "  num_correctly_tokenized = 0\n",
        "\n",
        "  for i in range(len(ref_tokens_lower)):\n",
        "    if ref_tokens_lower[i] in learned_tokens_lower_set:\n",
        "      num_correctly_tokenized += 1\n",
        "\n",
        "  accuracy = num_correctly_tokenized / len(ref_tokens_lower)\n",
        "  return accuracy*100"
      ],
      "metadata": {
        "id": "kLA41yAibeya"
      },
      "execution_count": null,
      "outputs": []
    },
    {
      "cell_type": "code",
      "source": [
        "def coverage(learned_tokens,ref_tokens):\n",
        "  learned_tokens_lower = [token.lower() for token in learned_tokens]\n",
        "  ref_tokens_lower = [token.lower() for token in ref_tokens]\n",
        "  num_learned_tokens_lower_set = len(set(learned_tokens_lower))\n",
        "  num_ref_tokens_lower_set = len(set(ref_tokens_lower))\n",
        "\n",
        "  return (num_learned_tokens_lower_set / num_ref_tokens_lower_set)*100"
      ],
      "metadata": {
        "id": "b5Rnrc-LW9Eu"
      },
      "execution_count": null,
      "outputs": []
    },
    {
      "cell_type": "code",
      "source": [
        "def prf(learned_tokens,ref_tokens):\n",
        "  learned_tokens_lower = [token.lower() for token in learned_tokens]\n",
        "  ref_tokens_lower = [token.lower() for token in ref_tokens]\n",
        "  learned_tokens_lower_set = set(learned_tokens_lower)\n",
        "  ref_tokens_lower_set = set(ref_tokens_lower)\n",
        "\n",
        "  true_positives = len(ref_tokens_lower_set.intersection(learned_tokens_lower_set))\n",
        "  false_positives = len(learned_tokens_lower_set.difference(ref_tokens_lower_set))\n",
        "  false_negatives = len(ref_tokens_lower_set.difference(learned_tokens_lower_set))\n",
        "\n",
        "  precision = true_positives / (true_positives + false_positives)\n",
        "  recall = true_positives / (true_positives + false_negatives)\n",
        "  f1_score = 2 * (precision * recall) / (precision + recall)\n",
        "\n",
        "  return precision, recall, f1_score"
      ],
      "metadata": {
        "id": "VFDVaIQ_ZZjV"
      },
      "execution_count": null,
      "outputs": []
    },
    {
      "cell_type": "code",
      "source": [
        "def jaccard_sim(learned_tokens,ref_tokens):\n",
        "  learned_tokens_lower = [token.lower() for token in learned_tokens]\n",
        "  ref_tokens_lower = [token.lower() for token in ref_tokens]\n",
        "  learned_tokens_lower_set = set(learned_tokens_lower)\n",
        "  ref_tokens_lower_set = set(ref_tokens_lower)\n",
        "\n",
        "  intersection = len(learned_tokens_lower_set.intersection(ref_tokens_lower_set))\n",
        "  union = len(learned_tokens_lower_set.union(ref_tokens_lower_set))\n",
        "  jaccard_sim = intersection / union\n",
        "\n",
        "  return jaccard_sim"
      ],
      "metadata": {
        "id": "ThcPfpgvbxg6"
      },
      "execution_count": null,
      "outputs": []
    },
    {
      "cell_type": "markdown",
      "source": [
        "###Performance of bpe_austen_emma"
      ],
      "metadata": {
        "id": "ee43A43hcWTu"
      }
    },
    {
      "cell_type": "code",
      "source": [
        "learned_persuation_tokens = bpe_austen_emma.segmenter(persuation_text)"
      ],
      "metadata": {
        "id": "0vyvK7zweA2Q"
      },
      "execution_count": null,
      "outputs": []
    },
    {
      "cell_type": "code",
      "source": [
        "accuracy(learned_persuation_tokens,persuasion_tokens)"
      ],
      "metadata": {
        "colab": {
          "base_uri": "https://localhost:8080/"
        },
        "id": "ydacLH6lca51",
        "outputId": "5cdfe8f1-c287-449f-fcd9-e1388568a519"
      },
      "execution_count": null,
      "outputs": [
        {
          "output_type": "execute_result",
          "data": {
            "text/plain": [
              "52.279458322269655"
            ]
          },
          "metadata": {},
          "execution_count": 54
        }
      ]
    },
    {
      "cell_type": "code",
      "source": [
        "coverage(learned_persuation_tokens,persuasion_tokens)"
      ],
      "metadata": {
        "colab": {
          "base_uri": "https://localhost:8080/"
        },
        "id": "Ej2Pd6RheoRq",
        "outputId": "1b2e8f7c-8a69-479d-b6af-fa9a450164b1"
      },
      "execution_count": null,
      "outputs": [
        {
          "output_type": "execute_result",
          "data": {
            "text/plain": [
              "16.47316170284368"
            ]
          },
          "metadata": {},
          "execution_count": 55
        }
      ]
    },
    {
      "cell_type": "code",
      "source": [
        "prf(learned_persuation_tokens,persuasion_tokens)"
      ],
      "metadata": {
        "colab": {
          "base_uri": "https://localhost:8080/"
        },
        "id": "_M20MV45es8X",
        "outputId": "d5d3002b-4b13-4be6-a49f-a4e8df377b90"
      },
      "execution_count": null,
      "outputs": [
        {
          "output_type": "execute_result",
          "data": {
            "text/plain": [
              "(0.17058222676200205, 0.028100286050816086, 0.048251950303380524)"
            ]
          },
          "metadata": {},
          "execution_count": 56
        }
      ]
    },
    {
      "cell_type": "code",
      "source": [
        "jaccard_sim(learned_persuation_tokens,persuasion_tokens)"
      ],
      "metadata": {
        "colab": {
          "base_uri": "https://localhost:8080/"
        },
        "id": "_0YYQ2vgexty",
        "outputId": "d18bffe0-fcf7-480a-aab0-55c6f3255894"
      },
      "execution_count": null,
      "outputs": [
        {
          "output_type": "execute_result",
          "data": {
            "text/plain": [
              "0.02472242783123612"
            ]
          },
          "metadata": {},
          "execution_count": 57
        }
      ]
    },
    {
      "cell_type": "markdown",
      "source": [
        "###Performance of bpe_blake_poem"
      ],
      "metadata": {
        "id": "P_FqAZNmcbWI"
      }
    },
    {
      "cell_type": "code",
      "source": [
        "learned_whitman_tokens = bpe_blake_poem.segmenter(whitman_text)"
      ],
      "metadata": {
        "id": "tIUe_H8nerO2"
      },
      "execution_count": null,
      "outputs": []
    },
    {
      "cell_type": "code",
      "source": [
        "print(f'Accuracy: {accuracy(learned_whitman_tokens,whitman_tokens)}')\n",
        "print(f'Coverage: {coverage(learned_whitman_tokens,whitman_tokens)}')\n",
        "print(prf(learned_whitman_tokens,whitman_tokens))\n",
        "print(f'Jaccard Sim: {jaccard_sim(learned_whitman_tokens,whitman_tokens)}')"
      ],
      "metadata": {
        "colab": {
          "base_uri": "https://localhost:8080/"
        },
        "id": "M9l-N9WocfvL",
        "outputId": "1b28ab05-8e26-4feb-f2b3-da2e4557b8bd"
      },
      "execution_count": null,
      "outputs": [
        {
          "output_type": "stream",
          "name": "stdout",
          "text": [
            "Accuracy: 44.94741992345896\n",
            "Coverage: 6.10714805648566\n",
            "(0.20381406436233612, 0.012447226670548843, 0.02346161761679358)\n",
            "Jaccard Sim: 0.011870054144106622\n"
          ]
        }
      ]
    },
    {
      "cell_type": "markdown",
      "source": [
        "###Performance of bpe_shakespeare_hamlet"
      ],
      "metadata": {
        "id": "PfkF_WI-cf9X"
      }
    },
    {
      "cell_type": "code",
      "source": [
        "learned_macbeth_tokens = bpe_shakespeare_hamlet.segmenter(macbeth_text)"
      ],
      "metadata": {
        "id": "FaTqyANCcjvT"
      },
      "execution_count": null,
      "outputs": []
    },
    {
      "cell_type": "code",
      "source": [
        "print(f'Accuracy: {accuracy(learned_macbeth_tokens,macbeth_tokens)}')\n",
        "print(f'Coverage: {coverage(learned_macbeth_tokens,macbeth_tokens)}')\n",
        "print(prf(learned_macbeth_tokens,macbeth_tokens))\n",
        "print(f'Jaccard Sim: {jaccard_sim(learned_macbeth_tokens,macbeth_tokens)}')"
      ],
      "metadata": {
        "colab": {
          "base_uri": "https://localhost:8080/"
        },
        "id": "7cUrb9SXgNhA",
        "outputId": "92f3d9a8-faee-4694-f56e-5c20f9d63810"
      },
      "execution_count": null,
      "outputs": [
        {
          "output_type": "stream",
          "name": "stdout",
          "text": [
            "Accuracy: 40.673773219988306\n",
            "Coverage: 24.53573438379291\n",
            "(0.1536697247706422, 0.037703995498030385, 0.060551287844554894)\n",
            "Jaccard Sim: 0.031220876048462257\n"
          ]
        }
      ]
    },
    {
      "cell_type": "markdown",
      "source": [
        "##6. Visualizations (2 marks):\n",
        "Provide visualizations of the BPE algorithm's learning process, illustrating the evolution of\n",
        "the vocabulary and the frequency of byte pair merges. Compare the vocabulary before and\n",
        "after training"
      ],
      "metadata": {
        "id": "nwkB73twbkpv"
      }
    },
    {
      "cell_type": "code",
      "source": [
        "bpe_blake_poem_viz = BPE(poem_text, 1000)\n",
        "bpe_blake_poem_viz.learner()"
      ],
      "metadata": {
        "id": "n8wR7h68blg9"
      },
      "execution_count": null,
      "outputs": []
    },
    {
      "cell_type": "code",
      "source": [
        "bpe_blake_poem_viz.vocab_len_history.pop(0)\n",
        "len(bpe_blake_poem_viz.vocab_len_history)"
      ],
      "metadata": {
        "colab": {
          "base_uri": "https://localhost:8080/"
        },
        "id": "uqx0BbqQjrce",
        "outputId": "5fc79014-3957-4f8e-acd9-6d5cc70db4bf"
      },
      "execution_count": null,
      "outputs": [
        {
          "output_type": "execute_result",
          "data": {
            "text/plain": [
              "1000"
            ]
          },
          "metadata": {},
          "execution_count": 69
        }
      ]
    },
    {
      "cell_type": "code",
      "source": [
        "len(bpe_blake_poem_viz.freq_of_pair_merges)"
      ],
      "metadata": {
        "colab": {
          "base_uri": "https://localhost:8080/"
        },
        "id": "4d9SpVUcjuu3",
        "outputId": "b65c2947-b0ae-40e7-e6c5-f7371de79d34"
      },
      "execution_count": null,
      "outputs": [
        {
          "output_type": "execute_result",
          "data": {
            "text/plain": [
              "1000"
            ]
          },
          "metadata": {},
          "execution_count": 65
        }
      ]
    },
    {
      "cell_type": "code",
      "source": [
        "bpe_blake_poem_viz.vocab_len_history[:10]"
      ],
      "metadata": {
        "colab": {
          "base_uri": "https://localhost:8080/"
        },
        "id": "6Gu7QbeEj4Sw",
        "outputId": "91f49e75-d8db-4ff7-8060-e0b25f943e25"
      },
      "execution_count": null,
      "outputs": [
        {
          "output_type": "execute_result",
          "data": {
            "text/plain": [
              "[74, 75, 76, 77, 78, 79, 80, 81, 82, 83]"
            ]
          },
          "metadata": {},
          "execution_count": 70
        }
      ]
    },
    {
      "cell_type": "code",
      "source": [
        "bpe_blake_poem_viz.freq_of_pair_merges[:10]"
      ],
      "metadata": {
        "colab": {
          "base_uri": "https://localhost:8080/"
        },
        "id": "sW30izfSj8tm",
        "outputId": "1d7d9725-ed27-40f7-baff-516c3a3df9e0"
      },
      "execution_count": null,
      "outputs": [
        {
          "output_type": "execute_result",
          "data": {
            "text/plain": [
              "[1240, 1005, 839, 660, 591, 472, 431, 426, 406, 387]"
            ]
          },
          "metadata": {},
          "execution_count": 67
        }
      ]
    },
    {
      "cell_type": "code",
      "source": [
        "plt.plot(bpe_blake_poem_viz.vocab_len_history, bpe_blake_poem_viz.freq_of_pair_merges, marker='o')\n",
        "\n",
        "# Add labels and title\n",
        "plt.xlabel('Vocab Length')\n",
        "plt.ylabel('Freq of Byte Pair Merges')\n",
        "plt.title('Vocab Length vs Freq - Byte Pair')\n",
        "\n",
        "# Show the plot\n",
        "plt.show()"
      ],
      "metadata": {
        "colab": {
          "base_uri": "https://localhost:8080/",
          "height": 472
        },
        "id": "ZooUNSWkkc25",
        "outputId": "2870f20d-b796-417c-aa8f-451432541192"
      },
      "execution_count": null,
      "outputs": [
        {
          "output_type": "display_data",
          "data": {
            "text/plain": [
              "<Figure size 640x480 with 1 Axes>"
            ],
            "image/png": "[encoded data removed]"
          },
          "metadata": {}
        }
      ]
    },
    {
      "cell_type": "markdown",
      "source": [
        "##7. Report and Discussion (3 marks):\n",
        "Prepare a detailed report documenting the implementation, experimental setup, and results.\n",
        "Discuss the strengths and weaknesses of BPE, and compare it with standard tokenization\n",
        "methods.\n",
        "Address any challenges encountered during implementation and suggest potential\n",
        "improvements"
      ],
      "metadata": {
        "id": "_S6CYpOwbqjB"
      }
    },
    {
      "cell_type": "markdown",
      "source": [
        "###Implementation\n",
        "My implementation of Byte Pair Encoding (BPE) consist of a python class with 2 main functions learner and segmenter, and a helper function to find most frequent pair to merge. Learner function learns the vocabulary of corpus it is initialized with. The learning process is halted after a certain number of pairs are reached (num_merges). Segmenter function breaks corpus into characters and runs each merge learned from training data greedily, in the order the merges are learned.\n",
        "###Experimental Setup\n",
        "I instantiated 3 instances of byte pair encoders initializing them with 3 corpus: \"austen-emma.txt,\" \"blake-poems.txt\" and \"shakespeare-hamlet.txt\" for training. For testing, I selected a poem corpus, whitman leaves, a Jane Austen corpus - Persuasion and a Shakespeare corpus - Macbeth. Idea is to evaluate performance of BPE trained on a author's book on another book written by same author.\n",
        "###Result\n",
        "Kindly refer Section 5 subsections:<br>\n",
        "1) Performance of bpe_austen_emma<br>\n",
        "2) Performance of bpe_blake_poem<br>\n",
        "3) Performance of bpe_shakespeare_hamlet<br>\n",
        "\n",
        "Also refer section 6 where I visualize learning process of my implementation of BPE on Blake's poem. I plotted Freq of Most Freq Byte Pair with Vocab Length and got an elbow-like plot which could mean that vocab size (number of byte pairs learned) of 200 is optimal for this corpus.\n",
        "\n",
        "###Strength of BPE\n",
        "From my observations:\n",
        "1) BPE is able to learn morphemes<br>\n",
        "2) It also learns freqent words<br>\n",
        "3) Also learns frequent subwords<br>\n",
        "###Weaknesses of BPE\n",
        "1) Loss of Word Semantics: BPE may break words into subword units that lose their semantic meaning<br>\n",
        "2) BPE relies on a predefined vocabulary size, and if the vocabulary is too small, it may produce subwords that are too small and less meaningful. If it's too large, it may overfit to rare words or miss the generalizability of subword units<br>\n",
        "###BPE vs Standard Tokenization Methods\n",
        "1) Out-of-Vocabulary Handling: BPE is\tGood, breaks down into subwords. Punkt tokenization is Poor, treats rare words as-is<br>\n",
        "2) Language Independence: BPE is Language-independent\t, Punkt is Language-specific<br>\n",
        "3) Semantic Meaning: In BPE there is potential loss of meaning but Punkt Preserves word meaning<br>\n",
        "4) Context Sensitivity: BPE is Context-insensitive but Punkt does\tRule-based context handling<br>\n",
        "###Challenges\n",
        "1) Context-Agnostic Tokenization: BPE doesn't take the context of a word into account, leading to inefficient or unintuitive splits, especially for homographs (e.g., \"lead\" as a verb vs. \"lead\" as a metal).<br>\n",
        "####Potential Improvements:<br>\n",
        "Contextualized Tokenization: Incorporate a context-aware mechanism, allowing BPE to adapt tokenization based on sentence-level meaning. A hybrid model combining BPE with neural models (like BERT’s WordPiece tokenization) could address this issue.<br>\n",
        "\n",
        "2) Slow Processing Speed: BPE can be slow, particularly when building the subword vocabulary or applying it to large corpora. The repeated merging of frequent byte pairs requires multiple passes over the text, which can be computationally expensive.\n",
        "####Potential Improvements:<br>\n",
        "Parallelization: Implement BPE in parallel or distributed computing environments to speed up the subword merging process."
      ],
      "metadata": {
        "id": "S77i7Kl5lIyx"
      }
    },
    {
      "cell_type": "code",
      "source": [],
      "metadata": {
        "id": "xdPoabgXbr0i"
      },
      "execution_count": null,
      "outputs": []
    }
  ]
}